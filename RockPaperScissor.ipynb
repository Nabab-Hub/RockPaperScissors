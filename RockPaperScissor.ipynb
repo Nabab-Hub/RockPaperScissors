{
 "cells": [
  {
   "cell_type": "markdown",
   "id": "73429dc6",
   "metadata": {},
   "source": [
    "<h1 align='center'>Installing Dependencies<h1>"
   ]
  },
  {
   "cell_type": "code",
   "execution_count": 1,
   "id": "ef2ab83b",
   "metadata": {},
   "outputs": [],
   "source": [
    "!pip install opencv-python mediapipe"
   ]
  },
  {
   "cell_type": "markdown",
   "id": "86512c53",
   "metadata": {},
   "source": [
    "## Importing Dependencies"
   ]
  },
  {
   "cell_type": "code",
   "execution_count": 4,
   "id": "9e0e3aca",
   "metadata": {},
   "outputs": [
    {
     "name": "stdout",
     "output_type": "stream",
     "text": [
      "WARNING:tensorflow:From C:\\Users\\skahi\\anaconda3\\Lib\\site-packages\\keras\\src\\losses.py:2976: The name tf.losses.sparse_softmax_cross_entropy is deprecated. Please use tf.compat.v1.losses.sparse_softmax_cross_entropy instead.\n",
      "\n"
     ]
    }
   ],
   "source": [
    "import mediapipe as mp\n",
    "import random as r\n",
    "import cv2"
   ]
  },
  {
   "cell_type": "markdown",
   "id": "42996df1",
   "metadata": {},
   "source": [
    "## Initialise Hand gestures solutions"
   ]
  },
  {
   "cell_type": "code",
   "execution_count": 5,
   "id": "437d0bb3",
   "metadata": {},
   "outputs": [],
   "source": [
    "mp_draw = mp.solutions.drawing_utils\n",
    "mp_hand = mp.solutions.hands.Hands(max_num_hands=1)"
   ]
  },
  {
   "cell_type": "markdown",
   "id": "90c53574",
   "metadata": {},
   "source": [
    "## For finding distance between two points"
   ]
  },
  {
   "cell_type": "code",
   "execution_count": 6,
   "id": "a397dc34",
   "metadata": {},
   "outputs": [],
   "source": [
    "def distance(p1, p2):\n",
    "    return ((p2[0]-p1[0])**2 + (p2[1]-p1[1])**2) ** 0.5"
   ]
  },
  {
   "cell_type": "markdown",
   "id": "812af947",
   "metadata": {},
   "source": [
    "## This is use for merging two image"
   ]
  },
  {
   "cell_type": "code",
   "execution_count": 7,
   "id": "cee43c48",
   "metadata": {},
   "outputs": [],
   "source": [
    "def transparent(base_image, tp_image, point,size=None):\n",
    "    if size is not None:\n",
    "        tp_image = cv2.resize(tp_image,size)\n",
    "    emoji_height, emoji_width, _ = tp_image.shape\n",
    "    roi_x, roi_y = point\n",
    "    \n",
    "    roi = base_image[roi_y:roi_y + emoji_height, roi_x:roi_x + emoji_width]\n",
    "    alpha_channel = tp_image[:, :, 3]/255.0\n",
    "    base_channel = 1.0 - alpha_channel\n",
    "    \n",
    "    for c in range(3):\n",
    "        base_image[roi_y:roi_y + emoji_height, roi_x:roi_x + emoji_width, c] = (\n",
    "            alpha_channel*tp_image[:, :, c] + base_channel * roi[:, :, c]\n",
    "        )\n",
    "    return base_image"
   ]
  },
  {
   "cell_type": "markdown",
   "id": "1b428e9e",
   "metadata": {},
   "source": [
    "## For checking which type of gestures user give"
   ]
  },
  {
   "cell_type": "code",
   "execution_count": 8,
   "id": "2567cfc4",
   "metadata": {},
   "outputs": [],
   "source": [
    "def checkGes(fingers_open):\n",
    "    if fingers_open.count(1) == 5:\n",
    "        # 'paper'\n",
    "        return 'paper'\n",
    "    elif fingers_open.count(0) == 5:\n",
    "        # 'rock'\n",
    "        return 'rock'\n",
    "    elif (fingers_open[1] == 1 and fingers_open[2] == 1) and (fingers_open[0] == 0 and fingers_open[3] == 0 and fingers_open[4] == 0):\n",
    "        # 'scissors'\n",
    "        return 'scissors'\n",
    "    elif fingers_open[0]==1 and fingers_open[1:].count(0)==4:\n",
    "        # 'like'\n",
    "        return 'like'\n",
    "    elif (fingers_open[1]==1 and fingers_open[4] == 1) and (fingers_open[2:4].count(0)==2 and fingers_open[0]==0):\n",
    "        return 'yo'\n",
    "    elif (fingers_open[1]==1 and fingers_open[4] == 1 and fingers_open[0]==1) and (fingers_open[2:4].count(0)==2):\n",
    "        return 'yoyo'\n",
    "    else:\n",
    "        return ''"
   ]
  },
  {
   "cell_type": "markdown",
   "id": "0cc89f35",
   "metadata": {},
   "source": [
    "## Inisialise icon images"
   ]
  },
  {
   "cell_type": "code",
   "execution_count": 9,
   "id": "6bfb03ce",
   "metadata": {},
   "outputs": [],
   "source": [
    "like_img = cv2.imread(r'lrps\\like.png', -1)\n",
    "rock_img = cv2.imread(r'lrps\\rock.png', -1)\n",
    "papr_img = cv2.imread(r'lrps\\paper.png', -1)\n",
    "sisr_img = cv2.imread(r'lrps\\scissors.png', -1)"
   ]
  },
  {
   "cell_type": "markdown",
   "id": "77a55a83",
   "metadata": {},
   "source": [
    "# Main Working Logic\n",
    "   - ✊ Rock\n",
    "   - 🖐️ Paper\n",
    "   - ✌️ Scissors\n",
    "   - 👍 It is use for starting the game (when you do this move you have 3 seconds to choose a move\n",
    "   - 🤘 It is use for exit from the score window\n",
    "   - 🤟 It is use for exit from the winner window"
   ]
  },
  {
   "cell_type": "code",
   "execution_count": 10,
   "id": "0e80e3b2",
   "metadata": {},
   "outputs": [],
   "source": [
    "flag = True\n",
    "chart_box_on = False\n",
    "turns = 5\n",
    "com_score = 0\n",
    "you_score = 0\n",
    "who_won = ''\n",
    "game_over = True\n",
    "cap = cv2.VideoCapture(0)\n",
    "\n",
    "while cap.isOpened():\n",
    "    _, frame = cap.read()\n",
    "    frame = cv2.flip(frame, 1)\n",
    "    \n",
    "    cv2.rectangle(frame, (20, 10), (620, 60), (139, 32, 227), cv2.FILLED)\n",
    "    cv2.rectangle(frame, (10, 5), (630, 65), (0, 0, 0), 2)\n",
    "    cv2.rectangle(frame, (10, 70), (630, 470), (0, 0, 0), 2)\n",
    "    cv2.putText(frame, 'rock paper scissors'.title(), (150, 45), cv2.FONT_HERSHEY_SIMPLEX, 1, (10, 10, 10), 4, cv2.LINE_AA)\n",
    "\n",
    "    results = mp_hand.process(frame[:, :, ::-1])\n",
    "    if results.multi_hand_landmarks:\n",
    "        h, w = 480, 640\n",
    "        for landmarks in results.multi_hand_landmarks:\n",
    "            hand_points = []\n",
    "            for landmark in landmarks.landmark:\n",
    "                hand_points.append([int(landmark.x*w), int(landmark.y*h)])\n",
    "            fingers_open = [0, 0, 0, 0, 0]\n",
    "            tips = [8, 12, 16, 20]\n",
    "            if distance((hand_points[4][0], hand_points[4][1]), (hand_points[14][0], hand_points[14][1])) >50:\n",
    "                fingers_open[0] = 1\n",
    "            else:\n",
    "                fingers_open[0] = 0\n",
    "            for idx, i in enumerate(tips, 1):\n",
    "                if (hand_points[i][1] - hand_points[i-3][1]) <0:\n",
    "                    fingers_open[idx] = 1\n",
    "                else:\n",
    "                    fingers_open[idx] = 0\n",
    "            \n",
    "            gesture = checkGes(fingers_open=fingers_open)\n",
    "                \n",
    "            if flag and game_over:\n",
    "                size = (100, 100)\n",
    "                def decoration(frame, move, tp_img, imgori, textori):\n",
    "                    cv2.rectangle(frame, (imgori[0]-25, imgori[1]-15), (imgori[0]+125, imgori[1]+135), (0, 0, 0), 2)\n",
    "                    cv2.rectangle(frame, (imgori[0]-25, imgori[1]+135), (imgori[0]+125, imgori[1]+165), (0, 0, 0), 2)\n",
    "                    cv2.rectangle(frame, (imgori[0]-23, imgori[1]+137), (imgori[0]+123, imgori[1]+163), (139, 32, 227), -1)\n",
    "                    frame = transparent(frame, tp_img, imgori, size)\n",
    "                    cv2.putText(frame, move.upper(), textori, cv2.FONT_HERSHEY_COMPLEX_SMALL, 1, (52, 186, 235), 2, cv2.LINE_AA)\n",
    "                    return frame\n",
    "                hx, hy = 220, 80\n",
    "                if gesture == 'rock':\n",
    "                    frame = decoration(frame, gesture, rock_img, (275+hx, 215+hy), (290+hx, 370+hy))\n",
    "                elif gesture == 'paper':\n",
    "                    frame = decoration(frame, gesture, papr_img, (275+hx, 215+hy), (290+hx, 370+hy))\n",
    "                elif gesture == 'scissors':\n",
    "                    frame = decoration(frame, gesture, sisr_img, (275+hx, 215+hy), (265+hx, 370+hy))\n",
    "                elif gesture == 'like':\n",
    "                    frame = decoration(frame, gesture, like_img, (275+hx, 215+hy), (300+hx, 370+hy))\n",
    "                    gif = cv2.VideoCapture(r\"lrps\\timer.gif\")\n",
    "                    flag = False\n",
    "                \n",
    "            time_up = False\n",
    "            if  not flag and game_over:\n",
    "                gif_size = ()\n",
    "                gfx, gfy = 220, 180\n",
    "                if gif.isOpened():\n",
    "                    time_up, g_frame = gif.read()\n",
    "                    if time_up:\n",
    "                        gif_size = g_frame.shape[:2]\n",
    "                        cv2.rectangle(frame, (180, 80), (420, 110), (0,0,0), 2)\n",
    "                        cv2.putText(frame, 'pick your move'.upper(), (200, 102), cv2.FONT_HERSHEY_COMPLEX_SMALL, 1, (139, 32, 227), 2, cv2.LINE_AA)\n",
    "                        frame[gfy:gfy + gif_size[0], gfx:gfx + gif_size[1]] = g_frame\n",
    "            \n",
    "            if time_up == False and not flag and game_over:\n",
    "                if not chart_box_on:\n",
    "                    chart_box_on = True\n",
    "                    your_move = gesture\n",
    "                    dont_go = True\n",
    "                    computers_move = r.choice(['rock', 'paper', 'scissors'])\n",
    "                    if your_move == computers_move:\n",
    "                        who_won = 'match draw'\n",
    "                    elif (computers_move == 'rock' and your_move == 'scissors') or (computers_move == 'paper' and your_move == 'rock') or (computers_move == 'scissors' and your_move == 'paper'):\n",
    "                        who_won = 'computer win'\n",
    "                        com_score+=5\n",
    "                        turns-=1\n",
    "                    elif your_move not in ['rock', 'paper', 'scissors']:\n",
    "                        dont_go = False\n",
    "                    else:\n",
    "                        who_won = 'you win'\n",
    "                        you_score+=5\n",
    "                        turns-=1\n",
    "                if (gesture == 'yo' and chart_box_on) or dont_go==False:\n",
    "                    chart_box_on = False\n",
    "                    flag = True    \n",
    "            \n",
    "            if not time_up and chart_box_on and dont_go and game_over:          \n",
    "                cv2.rectangle(frame, (20, 80), (620, 460), (0, 0, 0), 2)\n",
    "                cv2.rectangle(frame, (30, 90), (610, 130), (0, 0, 0), 2)\n",
    "                cv2.rectangle(frame, (32, 92), (608, 128), (139, 32, 227), -1)\n",
    "\n",
    "                cv2.rectangle(frame, (30, 140), (610, 440), (0, 0, 0), 2)\n",
    "                cv2.rectangle(frame, (35, 145), (315, 405), (0, 0, 0), 2)\n",
    "                cv2.rectangle(frame, (320, 145), (605, 405), (0, 0, 0), 2)\n",
    "\n",
    "                cv2.rectangle(frame, (30, 410), (610, 450), (0, 0, 0), 2)\n",
    "                cv2.rectangle(frame, (32, 412), (608, 448), (139, 32, 227), -1)\n",
    "                cv2.putText(frame, f\"yours score : {str(you_score).zfill(2)} || computer's score : {str(com_score).zfill(2)}\".upper(), (45, 117), cv2.FONT_HERSHEY_COMPLEX_SMALL, 1, (0, 0, 0), 1, cv2.LINE_AA)\n",
    "                \n",
    "                cv2.rectangle(frame, (40, 360), (310, 400), (0, 0, 0), 2)\n",
    "                cv2.rectangle(frame, (42, 362), (308, 398), (139, 32, 227), -1)\n",
    "                cv2.putText(frame, 'You Chose'.upper(), (110, 385), cv2.FONT_HERSHEY_COMPLEX_SMALL, 1, (52, 186, 235), 2, cv2.LINE_AA)\n",
    "                cv2.rectangle(frame, (325, 360), (600, 400), (0, 0, 0), 2)\n",
    "                cv2.rectangle(frame, (327, 362), (598, 398), (139, 32, 227), -1)\n",
    "                cv2.putText(frame, 'Computer Chose'.upper(), (355, 385), cv2.FONT_HERSHEY_COMPLEX_SMALL, 1, (52, 186, 235), 2, cv2.LINE_AA)\n",
    "                \n",
    "                hx, hy = -150, -40\n",
    "                if your_move == 'rock':\n",
    "                    frame = decoration(frame, your_move, rock_img, (275+hx, 215+hy), (290+hx, 370+hy))\n",
    "                elif your_move == 'paper':\n",
    "                    frame = decoration(frame, your_move, papr_img, (275+hx, 215+hy), (290+hx, 370+hy))\n",
    "                elif your_move == 'scissors':\n",
    "                    frame = decoration(frame, your_move, sisr_img, (275+hx, 215+hy), (265+hx, 370+hy))\n",
    "                hx, hy = 150, -40\n",
    "                if computers_move == 'rock':\n",
    "                    frame = decoration(frame, computers_move, rock_img, (275+hx, 215+hy), (290+hx, 370+hy))\n",
    "                elif computers_move == 'paper':\n",
    "                    frame = decoration(frame, computers_move, papr_img, (275+hx, 215+hy), (290+hx, 370+hy))\n",
    "                elif computers_move == 'scissors':\n",
    "                    frame = decoration(frame, computers_move, sisr_img, (275+hx, 215+hy), (265+hx, 370+hy))\n",
    "                \n",
    "                if who_won == 'match draw':\n",
    "                    cv2.putText(frame, 'match draw'.upper(), (230, 436), cv2.FONT_HERSHEY_COMPLEX_SMALL, 1, (52, 186, 235), 2, cv2.LINE_AA)\n",
    "                elif who_won == 'computer win':\n",
    "                    cv2.putText(frame, 'computer win'.upper(), (220, 436), cv2.FONT_HERSHEY_COMPLEX_SMALL, 1, (52, 186, 235), 2, cv2.LINE_AA)\n",
    "                elif who_won == 'you win':\n",
    "                    cv2.putText(frame, 'you win'.upper(), (270, 436), cv2.FONT_HERSHEY_COMPLEX_SMALL, 1, (52, 186, 235), 2, cv2.LINE_AA)\n",
    "                    \n",
    "            if turns == 0 and not chart_box_on:\n",
    "                game_over = False\n",
    "                \n",
    "            if game_over==False:\n",
    "                if you_score > com_score:\n",
    "                    cv2.rectangle(frame, (20, 80), (620, 460), (0, 0, 0), 2)\n",
    "                    cv2.putText(frame, 'you won'.upper(), (150, 270), cv2.FONT_HERSHEY_COMPLEX_SMALL, 3, (0, 255, 0), 5, cv2.LINE_AA)\n",
    "                else:\n",
    "                    cv2.rectangle(frame, (20, 80), (620, 460), (0, 0, 0), 2)\n",
    "                    cv2.putText(frame, 'computer won'.upper(), (120, 270), cv2.FONT_HERSHEY_COMPLEX_SMALL, 2, (0, 0, 255), 3, cv2.LINE_AA)\n",
    "                    \n",
    "                if gesture == 'yoyo':\n",
    "                    turns = 5\n",
    "                    you_score = 0\n",
    "                    com_score = 0\n",
    "                    game_over = True\n",
    "    if _:\n",
    "        cv2.imshow('Rock Paper Scissors', frame)\n",
    "    if cv2.waitKey(1) == 27:\n",
    "        cap.release()\n",
    "        break\n",
    "cv2.destroyAllWindows()"
   ]
  },
  {
   "cell_type": "code",
   "execution_count": null,
   "id": "19dc340c",
   "metadata": {},
   "outputs": [],
   "source": []
  }
 ],
 "metadata": {
  "kernelspec": {
   "display_name": "Python 3 (ipykernel)",
   "language": "python",
   "name": "python3"
  },
  "language_info": {
   "codemirror_mode": {
    "name": "ipython",
    "version": 3
   },
   "file_extension": ".py",
   "mimetype": "text/x-python",
   "name": "python",
   "nbconvert_exporter": "python",
   "pygments_lexer": "ipython3",
   "version": "3.11.5"
  }
 },
 "nbformat": 4,
 "nbformat_minor": 5
}
